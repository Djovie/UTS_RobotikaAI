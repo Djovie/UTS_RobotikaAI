{
  "cells": [
    {
      "cell_type": "markdown",
      "metadata": {
        "id": "iEDYY7niZbmk"
      },
      "source": [
        "___\n",
        "# Prediksi Gagal Jantung\n",
        "menggunakan algoritma **`K-Nearest Neighbor`**\n",
        "___"
      ]
    },
    {
      "cell_type": "code",
      "execution_count": 140,
      "metadata": {
        "id": "NgztmqlRRTXH"
      },
      "outputs": [],
      "source": [
        "import numpy as np\n",
        "import pandas as pd\n",
        "import matplotlib.pyplot as plt\n",
        "\n",
        "from sklearn.neighbors import KNeighborsClassifier\n",
        "from sklearn.model_selection import train_test_split\n",
        "from sklearn.preprocessing import StandardScaler\n",
        "\n",
        "from sklearn.metrics import classification_report, confusion_matrix\n",
        "from sklearn.metrics import accuracy_score\n",
        "import seaborn as sns"
      ]
    },
    {
      "cell_type": "markdown",
      "metadata": {
        "id": "M05_PiD0fMZL"
      },
      "source": [
        "\n",
        "\n",
        "> mengakses dataset, penentuan variabel dan normalisasi data\n",
        "\n"
      ]
    },
    {
      "cell_type": "code",
      "execution_count": null,
      "metadata": {
        "colab": {
          "base_uri": "https://localhost:8080/"
        },
        "id": "4sPlbKusSAUQ",
        "outputId": "f488cd76-5d85-4859-b7c6-2f19dc27119f"
      },
      "outputs": [],
      "source": [
        "dataset=pd.read_csv('DataGagalJantung.csv')\n",
        "# dataset.head()\n",
        "dataset.info()"
      ]
    },
    {
      "cell_type": "code",
      "execution_count": null,
      "metadata": {
        "colab": {
          "base_uri": "https://localhost:8080/"
        },
        "id": "aET1OJjPSKg9",
        "outputId": "6afc2cc4-43f5-4837-adfa-67aefe414dc3"
      },
      "outputs": [],
      "source": [
        "dataset.corr()[abs(dataset.corr()['DEATH_EVENT']) > 0.2]['DEATH_EVENT']"
      ]
    },
    {
      "cell_type": "code",
      "execution_count": 94,
      "metadata": {
        "id": "euPXJubQb1-x"
      },
      "outputs": [],
      "source": [
        "x = dataset[['age','ejection_fraction','serum_creatinine','time']]\n",
        "y = dataset['DEATH_EVENT']\n",
        "\n",
        "# normalisasi data dengan metode standart scaler\n",
        "scaler = StandardScaler()\n",
        "scaler.fit_transform(x)\n",
        "\n",
        "x_train,x_test,y_train,y_test=train_test_split(x, y, train_size=0.7, random_state=2)"
      ]
    },
    {
      "cell_type": "markdown",
      "metadata": {
        "id": "3D3Qe8x8f-Is"
      },
      "source": [
        "> plot data"
      ]
    },
    {
      "cell_type": "code",
      "execution_count": null,
      "metadata": {
        "colab": {
          "base_uri": "https://localhost:8080/",
          "height": 452
        },
        "id": "E1bOyyiMAG2s",
        "outputId": "732e8743-e794-429e-e74f-b930a1d549c9"
      },
      "outputs": [],
      "source": [
        "figure, axis = plt.subplots(2, 2)\n",
        "ax = [axis[0,0],axis[0,1],axis[1,0],axis[1,1]]\n",
        "col = ['orange', 'sienna','navy', 'darkgreen' ]\n",
        "n = 0\n",
        "\n",
        "for x_label in x:\n",
        "  ax[n].set_title(x_label)\n",
        "  ax[n].scatter(x[x_label],y, color = col[n])\n",
        "  ax[n].plot(np.unique(x[x_label]), np.poly1d(np.polyfit(x[x_label], y, 1))\n",
        "                (np.unique(x[x_label])), color='red')\n",
        "  n+=1\n",
        "\n",
        "plt.show()"
      ]
    },
    {
      "cell_type": "markdown",
      "metadata": {
        "id": "ep_HWZEygCyt"
      },
      "source": [
        "> proses training data menggunakan KNN"
      ]
    },
    {
      "cell_type": "code",
      "execution_count": 97,
      "metadata": {
        "id": "PPkT9y_NTi0A"
      },
      "outputs": [],
      "source": [
        "knn = KNeighborsClassifier(n_neighbors=6)\n",
        "knn.fit(x_train, y_train)\n",
        "\n",
        "y_pred = knn.predict(x_test)"
      ]
    },
    {
      "cell_type": "markdown",
      "metadata": {
        "id": "ITfEKVyTgTbk"
      },
      "source": [
        "> laporan hasil prediksi"
      ]
    },
    {
      "cell_type": "code",
      "execution_count": null,
      "metadata": {
        "colab": {
          "base_uri": "https://localhost:8080/",
          "height": 673
        },
        "id": "V2OF8ojV1iws",
        "outputId": "9c70dac2-8829-4003-f55c-196d9aebe633"
      },
      "outputs": [],
      "source": [
        "tn, fp, fn, tp = confusion_matrix(y_test,y_pred).ravel()\n",
        "acc = (tp+tn)/(tn+ fp+ fn+ tp)\n",
        "\n",
        "print(f\"neighbors = 6\")\n",
        "print('berhasil',tn+tp,'dari',(tn+ fp+ fn+ tp)\n",
        "      ,'sampel data dengan akurasi', round(acc*100,2) ,'%\\n')\n",
        "\n",
        "print(\"report:\\n\",classification_report(y_test,y_pred))\n",
        "sns.heatmap([[tn, fp],[fn, tp]],annot=True,cbar=False,square=True)"
      ]
    }
  ],
  "metadata": {
    "colab": {
      "provenance": []
    },
    "kernelspec": {
      "display_name": "Python 3",
      "name": "python3"
    },
    "language_info": {
      "name": "python"
    }
  },
  "nbformat": 4,
  "nbformat_minor": 0
}
